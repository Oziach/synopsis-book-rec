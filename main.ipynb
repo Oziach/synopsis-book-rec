{
 "cells": [
  {
   "cell_type": "markdown",
   "metadata": {},
   "source": [
    "TODO:\n",
    "RETURN TOP 10 MATHCES\n",
    "USE A BIGGER BOOKS DATASET"
   ]
  },
  {
   "cell_type": "code",
   "execution_count": 2,
   "metadata": {},
   "outputs": [
    {
     "name": "stderr",
     "output_type": "stream",
     "text": [
      "c:\\Personal\\Study Stuff\\SynopsisBookSearchBackend\\.venv\\Lib\\site-packages\\tqdm\\auto.py:21: TqdmWarning: IProgress not found. Please update jupyter and ipywidgets. See https://ipywidgets.readthedocs.io/en/stable/user_install.html\n",
      "  from .autonotebook import tqdm as notebook_tqdm\n"
     ]
    }
   ],
   "source": [
    "import pandas as pd\n",
    "import numpy as np\n",
    "from sklearn.feature_extraction.text import TfidfVectorizer\n",
    "from sklearn.metrics.pairwise import cosine_similarity\n",
    "from sentence_transformers import SentenceTransformer, util"
   ]
  },
  {
   "cell_type": "code",
   "execution_count": 3,
   "metadata": {},
   "outputs": [],
   "source": [
    "#load\n",
    "booksDataframe = pd.read_csv(\"./data/books_summary.csv\")\n",
    "booksDataframe = booksDataframe.drop_duplicates(subset=\"book_name\", keep=\"first\")\n",
    "booksDataframe.to_csv(\"./cleaned_books.csv\")"
   ]
  },
  {
   "cell_type": "code",
   "execution_count": 21,
   "metadata": {},
   "outputs": [
    {
     "name": "stdout",
     "output_type": "stream",
     "text": [
      "     Unnamed: 0                            book_name  \\\n",
      "0             0          The Highly Sensitive Person   \n",
      "1             1  Why Has Nobody Told Me This Before?   \n",
      "2             2                 The Midnight Library   \n",
      "3             3                      Brave New World   \n",
      "4             4                                 1984   \n",
      "..          ...                                  ...   \n",
      "995        1005                     The Power Of Bad   \n",
      "996        1006           Who Will Cry When You Die?   \n",
      "997        1007                      Super Attractor   \n",
      "998        1008                       The Way Of Zen   \n",
      "999        1009                    Everybody Matters   \n",
      "\n",
      "                                             summaries categories  \n",
      "0     is a self-assessment guide and how-to-live te...    science  \n",
      "1     is a collection of a clinical psychologist’s ...    science  \n",
      "2     tells the story of Nora, a depressed woman in...    science  \n",
      "3     presents a futuristic society engineered perf...    science  \n",
      "4     is the story of a man questioning the system ...    science  \n",
      "..                                                 ...        ...  \n",
      "995   gives some excellent tips on how to become ha...  happiness  \n",
      "996   helps you leave a lasting legacy of greatness...  happiness  \n",
      "997   will help you become happier, find your purpo...  happiness  \n",
      "998   is the ultimate guide to understanding the hi...  happiness  \n",
      "999   identifies the best way to become successful ...  happiness  \n",
      "\n",
      "[1000 rows x 4 columns]\n"
     ]
    }
   ],
   "source": [
    "#preview\n",
    "test_books = booksDataframe.head(1000)\n",
    "print(test_books)"
   ]
  },
  {
   "cell_type": "code",
   "execution_count": 4,
   "metadata": {},
   "outputs": [],
   "source": [
    "#load sbert\n",
    "model = SentenceTransformer(\"sentence-transformers/all-MiniLM-L6-v2\")"
   ]
  },
  {
   "cell_type": "code",
   "execution_count": 16,
   "metadata": {},
   "outputs": [],
   "source": [
    "#create embeddings vector\n",
    "summaries_embeddings = model.encode(test_books[\"summaries\"], convert_to_tensor=True)"
   ]
  },
  {
   "cell_type": "code",
   "execution_count": 22,
   "metadata": {},
   "outputs": [],
   "source": [
    "#input\n",
    "user_input = input(\"Describe your preferred plot c:\")\n",
    "user_embedding = model.encode(user_input, convert_to_tensor=True)"
   ]
  },
  {
   "cell_type": "code",
   "execution_count": 45,
   "metadata": {},
   "outputs": [
    {
     "name": "stdout",
     "output_type": "stream",
     "text": [
      "Rank 1: AI 2041 Summary:  explores the concept of artificial intelligence and delves into some thought-provoking ideas about AI taking over the world in the next twenty years, from our day-to-day lives to our jobs, becoming a worldwide used tool that will shake the world as we know it from the ground up. (Score: 0.6398)\n",
      "Rank 2: AI Superpowers Summary:  will help you understand what to expect of the effect that artificial intelligence will have on your future job opportunities by diving into where China and the US, the world’s two leaders in AI, are heading with this breakthrough technology. (Score: 0.6041)\n",
      "Rank 3: Abundance Summary:  shows you the key technological trends being developed today, to give you a glimpse of a future that’s a lot brighter than you think and help you embrace the optimism we need to make it happen. (Score: 0.4935)\n",
      "Rank 4: The Singularity Is Near Summary:  outlines the future of technology by describing how change keeps accelerating, what computers will look like and be made of, why biology and technology will become indistinguishable and how we can’t possibly predict what’ll happen after 2045. (Score: 0.4925)\n",
      "Rank 5: Thank You For Being Late Summary:  helps you slow down and take life at a more reasonable pace by explaining the state of our rapidly changing environment, economy, and technology. (Score: 0.4743)\n",
      "Rank 6: Thank You For Being Late Summary:  helps you slow down and take life at a more reasonable pace by explaining the state of our rapidly changing environment, economy, and technology. (Score: 0.4743)\n",
      "Rank 7: Superintelligence Summary:  asks what will happen once we manage to build computers that are smarter than us, including what we need to do, how it’s going to work, and why it has to be done the exact right way to make sure the human race doesn’t go extinct. (Score: 0.4654)\n",
      "Rank 8: 2030 Summary:  uses the current trajectory of the world, based on sociological, demographic, and technological trends, to outline the changes we can expect to happen in our lives by the beginning of the next decade. (Score: 0.4598)\n",
      "Rank 9: 2030 Summary:  uses the current trajectory of the world, based on sociological, demographic, and technological trends, to outline the changes we can expect to happen in our lives by the beginning of the next decade. (Score: 0.4598)\n",
      "Rank 10: Psycho-Cybernetics Summary:  explains how thinking of the human mind as a machine can help improve your self-image, which will dramatically increase your success and happiness. (Score: 0.4487)\n",
      "(1000,)\n"
     ]
    }
   ],
   "source": [
    "#compute similarities and print top n results\n",
    "similarity_scores = util.pytorch_cos_sim(user_embedding, summaries_embeddings)\n",
    "similarity_scores = similarity_scores.cpu().numpy().flatten()\n",
    "\n",
    "top_10_indices = np.argsort(similarity_scores)[::-1][:10]  # Sort & get last 10 in reverse\n",
    "\n",
    "# Print the book titles and their similarity scores\n",
    "for i, idx in enumerate(top_10_indices):\n",
    "    print(f\"Rank {i+1}: {test_books['book_name'][idx]} Summary: {test_books['summaries'][idx]} (Score: {similarity_scores[idx]:.4f})\")\n",
    "print(similarity_scores.shape)"
   ]
  },
  {
   "cell_type": "code",
   "execution_count": null,
   "metadata": {},
   "outputs": [],
   "source": []
  }
 ],
 "metadata": {
  "kernelspec": {
   "display_name": ".venv",
   "language": "python",
   "name": "python3"
  },
  "language_info": {
   "codemirror_mode": {
    "name": "ipython",
    "version": 3
   },
   "file_extension": ".py",
   "mimetype": "text/x-python",
   "name": "python",
   "nbconvert_exporter": "python",
   "pygments_lexer": "ipython3",
   "version": "3.13.1"
  }
 },
 "nbformat": 4,
 "nbformat_minor": 2
}
